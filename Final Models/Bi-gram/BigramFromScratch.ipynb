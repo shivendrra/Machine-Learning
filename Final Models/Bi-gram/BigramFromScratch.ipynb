{
  "cells": [
    {
      "cell_type": "markdown",
      "metadata": {
        "id": "view-in-github",
        "colab_type": "text"
      },
      "source": [
        "<a href=\"https://colab.research.google.com/github/shivendrra/Machine-Learning/blob/main/Final%20Models/Bi-gram/BigramFromScratch.ipynb\" target=\"_parent\"><img src=\"https://colab.research.google.com/assets/colab-badge.svg\" alt=\"Open In Colab\"/></a>"
      ]
    },
    {
      "cell_type": "markdown",
      "metadata": {
        "id": "1ewiBOXRgSLp"
      },
      "source": [
        "**coding the tokenizer first**"
      ]
    },
    {
      "cell_type": "code",
      "execution_count": 1,
      "metadata": {
        "id": "G8tzESxE7xpH"
      },
      "outputs": [],
      "source": [
        "from tokenizers import normalizers\n",
        "from tokenizers import Tokenizer, models, trainers, pre_tokenizers, decoders, processors\n",
        "from tokenizers.normalizers import NFD, StripAccents\n",
        "\n",
        "import os\n",
        "\n",
        "class EncoderDecoder:\n",
        "  def __init__(self, model_path=\"custom-model.json\"):\n",
        "    self.tokenizer = Tokenizer(models.BPE())\n",
        "    self.model_path = model_path\n",
        "    self.setup_tokenizer()\n",
        "\n",
        "  def train_tokenizer(self, corpus, vocab_size=1000):\n",
        "    trainer = trainers.BpeTrainer(special_tokens=[\"<pad>\", \"<unk>\", \"<s>\", \"<\\s>\"], vocab_size=vocab_size)\n",
        "    self.tokenizer.train_from_iterator(corpus, trainer=trainer)\n",
        "    # self.save_model()\n",
        "\n",
        "  def save_model(self):\n",
        "    model_directory = os.path.dirname(self.model_path)\n",
        "    os.makedirs(model_directory, exist_ok=True)\n",
        "    print(\"Model Path:\", self.model_path)\n",
        "    self.tokenizer.model.save(model_directory, \"custom-model\")\n",
        "\n",
        "  def load_model(self):\n",
        "    self.tokenizer.model = models.BPE.load(self.model_path)\n",
        "\n",
        "  def setup_tokenizer(self):\n",
        "    self.tokenizer.normalizer = normalizers.Sequence([NFD(), StripAccents()])\n",
        "    self.tokenizer.pre_tokenizer = pre_tokenizers.ByteLevel()\n",
        "    self.tokenizer.decoder = decoders.ByteLevel()\n",
        "    self.tokenizer.post_processor = processors.ByteLevel(trim_offsets=True)\n",
        "    self.tokenizer.enable_padding(pad_id=0, pad_token=\"<pad>\")\n",
        "\n",
        "  def encode(self, text):\n",
        "    encoding = self.tokenizer.encode(text)\n",
        "    return encoding.ids\n",
        "\n",
        "  def decode(self, ids):\n",
        "    ids_list = ids.tolist()\n",
        "    tokens = self.tokenizer.decode(ids_list)\n",
        "    return tokens"
      ]
    },
    {
      "cell_type": "code",
      "execution_count": 2,
      "metadata": {
        "colab": {
          "base_uri": "https://localhost:8080/"
        },
        "id": "nstQNTFXrWgJ",
        "outputId": "61eb62a9-a19c-4a97-ec3f-d6cc39ae537d"
      },
      "outputs": [
        {
          "output_type": "stream",
          "name": "stdout",
          "text": [
            "Drive already mounted at /content/drive; to attempt to forcibly remount, call drive.mount(\"/content/drive\", force_remount=True).\n"
          ]
        }
      ],
      "source": [
        "from google.colab import drive\n",
        "drive.mount('/content/drive')"
      ]
    },
    {
      "cell_type": "code",
      "execution_count": 3,
      "metadata": {
        "colab": {
          "base_uri": "https://localhost:8080/"
        },
        "id": "32uyvCyC7i8F",
        "outputId": "931176f1-484c-418c-8897-e66eeac7deab"
      },
      "outputs": [
        {
          "output_type": "stream",
          "name": "stdout",
          "text": [
            "30.083569 million words\n"
          ]
        }
      ],
      "source": [
        "# data for training the BPE\n",
        "with open('/content/drive/MyDrive/training_data.txt', 'r', encoding='utf-8') as file:\n",
        "  captions = file.read()\n",
        "\n",
        "print(len(captions)/1e6, 'million words')"
      ]
    },
    {
      "cell_type": "code",
      "execution_count": 4,
      "metadata": {
        "colab": {
          "base_uri": "https://localhost:8080/"
        },
        "id": "bIXxfiKhSSae",
        "outputId": "1ddd7c33-ce5a-4706-ccbc-02635c94a04a"
      },
      "outputs": [
        {
          "output_type": "stream",
          "name": "stdout",
          "text": [
            "total tokens 250.78023 hundred thousand\n"
          ]
        }
      ],
      "source": [
        "# encoder-decoder\n",
        "encoder_decoder = EncoderDecoder()\n",
        "encoder_decoder.train_tokenizer(captions, vocab_size=10000)\n",
        "input_data = encoder_decoder.encode(captions)\n",
        "print(\"total tokens\", len(input_data)/1e5, 'hundred thousand')"
      ]
    },
    {
      "cell_type": "code",
      "execution_count": 5,
      "metadata": {
        "colab": {
          "base_uri": "https://localhost:8080/"
        },
        "id": "NIh0X7Cspotc",
        "outputId": "58be0029-89c7-4c15-a7a2-a605d7caf09b"
      },
      "outputs": [
        {
          "output_type": "stream",
          "name": "stdout",
          "text": [
            "train data 22570.22 thousand \n",
            " validation data 2507.803 thousand\n"
          ]
        }
      ],
      "source": [
        "# train-test split\n",
        "\n",
        "n = int(0.9*len(input_data)) # first 90% will be train, rest val\n",
        "train_data = input_data[:n]\n",
        "val_data = input_data[n:]\n",
        "print(f\"train data {len(train_data) / 1e3} thousand \\n validation data {len(val_data) / 1e3} thousand\")"
      ]
    },
    {
      "cell_type": "code",
      "execution_count": 6,
      "metadata": {
        "colab": {
          "base_uri": "https://localhost:8080/"
        },
        "id": "6B9F4lZYo1kt",
        "outputId": "c91fabfa-4430-4719-decc-a44270a655c5"
      },
      "outputs": [
        {
          "output_type": "stream",
          "name": "stdout",
          "text": [
            "Before trimming: 22570220 2507803\n",
            "22570220 2507800\n"
          ]
        }
      ],
      "source": [
        "print(\"Before trimming:\", len(train_data), len(val_data))\n",
        "\n",
        "# Trimming data for a multiple of 4\n",
        "train_remainder = len(train_data) % 4\n",
        "val_remainder = len(val_data) % 4\n",
        "train_data = train_data[:-train_remainder] if train_remainder != 0 else train_data\n",
        "val_data = val_data[:-val_remainder] if val_remainder != 0 else val_data\n",
        "\n",
        "print(len(train_data), len(val_data))"
      ]
    },
    {
      "cell_type": "code",
      "execution_count": 7,
      "metadata": {
        "id": "O1u8_7v1daCC"
      },
      "outputs": [],
      "source": [
        "import torch\n",
        "\n",
        "# Convert to tensors\n",
        "train_data = torch.tensor(train_data, dtype=torch.long)\n",
        "val_data = torch.tensor(val_data, dtype=torch.long)"
      ]
    },
    {
      "cell_type": "code",
      "execution_count": 8,
      "metadata": {
        "colab": {
          "base_uri": "https://localhost:8080/"
        },
        "id": "N5Umz0p7g5ST",
        "outputId": "dd50a826-de41-4928-80ca-ae1c3671627b"
      },
      "outputs": [
        {
          "output_type": "stream",
          "name": "stdout",
          "text": [
            "train data = tensor([183,  75,  76,  86, 186,  86, 194,  68,  79,  79]), \n",
            "val data = tensor([ 70,  75,  68,  81,  74,  72, 184,  69,  82,  88])\n",
            "train data =  this is call, val data = change abou\n"
          ]
        }
      ],
      "source": [
        "print(f\"train data = {train_data[:10]}, \\nval data = {val_data[:10]}\")\n",
        "print(f\"train data = {encoder_decoder.decode(train_data[:10])}, val data = {encoder_decoder.decode(val_data[:10])}\")"
      ]
    },
    {
      "cell_type": "code",
      "execution_count": 9,
      "metadata": {
        "id": "YLGNbB0vltCY"
      },
      "outputs": [],
      "source": [
        "import timeit\n",
        "\n",
        "start_time_2 = timeit.default_timer()"
      ]
    },
    {
      "cell_type": "markdown",
      "metadata": {
        "id": "XwuQZkih8ulf"
      },
      "source": [
        "**main bigram transformer model**"
      ]
    },
    {
      "cell_type": "code",
      "execution_count": 10,
      "metadata": {
        "colab": {
          "base_uri": "https://localhost:8080/"
        },
        "id": "e_iF_qfOzuGf",
        "outputId": "a55d8c56-2761-4f60-fe12-5705de0960f3"
      },
      "outputs": [
        {
          "output_type": "stream",
          "name": "stdout",
          "text": [
            "6.649361 M parameters\n",
            "step 0: train loss 6.4249, val loss 6.4252\n",
            "step 100: train loss 6.1553, val loss 6.1554\n",
            "step 200: train loss 5.8878, val loss 5.8877\n",
            "step 300: train loss 5.6369, val loss 5.6380\n",
            "step 400: train loss 5.4199, val loss 5.4212\n",
            "step 500: train loss 5.2410, val loss 5.2426\n",
            "step 600: train loss 5.0957, val loss 5.0973\n",
            "step 700: train loss 4.9751, val loss 4.9793\n",
            "step 800: train loss 4.8766, val loss 4.8800\n",
            "step 900: train loss 4.7926, val loss 4.7956\n",
            "step 999: train loss 4.7195, val loss 4.7251\n"
          ]
        }
      ],
      "source": [
        "import torch.nn as nn\n",
        "from torch.nn import functional as F\n",
        "\n",
        "# hyperparameters\n",
        "batch_size = 128 # independent sequences in parallel\n",
        "block_size = 256 # max context length for predictions\n",
        "max_iters = 1000\n",
        "eval_interval = 100 # after interval outputs\n",
        "learning_rate = 1e-6\n",
        "device = 'cuda' if torch.cuda.is_available() else 'cpu'\n",
        "eval_iters = 200\n",
        "n_embd = 256\n",
        "n_head = 8\n",
        "n_layer = 8\n",
        "dropout = 0.2\n",
        "vocab_size = len(encoder_decoder.tokenizer.get_vocab())\n",
        "# ------------\n",
        "\n",
        "torch.manual_seed(1337)\n",
        "\n",
        "# data loading\n",
        "def get_batch(split):\n",
        "    # generate a small batch of data of inputs x and targets y\n",
        "    data = train_data if split == 'train' else val_data\n",
        "    ix = torch.randint(len(data) - block_size, (batch_size,))\n",
        "    x = torch.stack([data[i:i+block_size] for i in ix])\n",
        "    y = torch.stack([data[i+1:i+block_size+1] for i in ix])\n",
        "    x, y = x.to(device), y.to(device)\n",
        "    return x, y\n",
        "\n",
        "@torch.no_grad()\n",
        "def estimate_loss():\n",
        "    out = {}\n",
        "    model.eval()\n",
        "    for split in ['train', 'val']:\n",
        "        losses = torch.zeros(eval_iters)\n",
        "        for k in range(eval_iters):\n",
        "            X, Y = get_batch(split)\n",
        "            logits, loss = model(X, Y)\n",
        "            losses[k] = loss.item()\n",
        "        out[split] = losses.mean()\n",
        "    model.train()\n",
        "    return out\n",
        "\n",
        "class Head(nn.Module):\n",
        "    \"\"\" one head of self-attention \"\"\"\n",
        "\n",
        "    def __init__(self, head_size):\n",
        "        super().__init__()\n",
        "        self.key = nn.Linear(n_embd, head_size, bias=False)\n",
        "        self.query = nn.Linear(n_embd, head_size, bias=False)\n",
        "        self.value = nn.Linear(n_embd, head_size, bias=False)\n",
        "        self.register_buffer('tril', torch.tril(torch.ones(block_size, block_size)))\n",
        "\n",
        "        self.dropout = nn.Dropout(dropout)\n",
        "\n",
        "    def forward(self, x):\n",
        "        B,T,C = x.shape\n",
        "        k = self.key(x)   # (B,T,C)\n",
        "        q = self.query(x) # (B,T,C)\n",
        "        # compute attention scores (\"affinities\")\n",
        "        wei = q @ k.transpose(-2,-1) * C**-0.5 # (B, T, C) @ (B, C, T) -> (B, T, T)\n",
        "        wei = wei.masked_fill(self.tril[:T, :T] == 0, float('-inf')) # (B, T, T)\n",
        "        wei = F.softmax(wei, dim=-1) # (B, T, T)\n",
        "        wei = self.dropout(wei)\n",
        "        # perform the weighted aggregation of the values\n",
        "        v = self.value(x) # (B,T,C)\n",
        "        out = wei @ v # (B, T, T) @ (B, T, C) -> (B, T, C)\n",
        "        return out\n",
        "\n",
        "class MultiHeadAttention(nn.Module):\n",
        "    \"\"\" multiple heads of self-attention in parallel \"\"\"\n",
        "\n",
        "    def __init__(self, num_heads, head_size):\n",
        "        super().__init__()\n",
        "        self.heads = nn.ModuleList([Head(head_size) for _ in range(num_heads)])\n",
        "        self.proj = nn.Linear(n_embd, n_embd)\n",
        "        self.dropout = nn.Dropout(dropout)\n",
        "\n",
        "    def forward(self, x):\n",
        "        out = torch.cat([h(x) for h in self.heads], dim=-1)\n",
        "        out = self.dropout(self.proj(out))\n",
        "        return out\n",
        "\n",
        "class FeedFoward(nn.Module):\n",
        "    \"\"\" a simple linear layer followed by a non-linearity \"\"\"\n",
        "\n",
        "    def __init__(self, n_embd):\n",
        "        super().__init__()\n",
        "        self.net = nn.Sequential(\n",
        "            nn.Linear(n_embd, 4 * n_embd),\n",
        "            nn.ReLU(),\n",
        "            nn.Linear(4 * n_embd, n_embd),\n",
        "            nn.Dropout(dropout),\n",
        "        )\n",
        "\n",
        "    def forward(self, x):\n",
        "        return self.net(x)\n",
        "\n",
        "class Block(nn.Module):\n",
        "    \"\"\" Transformer block: communication followed by computation \"\"\"\n",
        "\n",
        "    def __init__(self, n_embd, n_head):\n",
        "        # n_embd: embedding dimension, n_head: the number of heads we'd like\n",
        "        super().__init__()\n",
        "        head_size = n_embd // n_head\n",
        "        self.sa = MultiHeadAttention(n_head, head_size)\n",
        "        self.ffwd = FeedFoward(n_embd)\n",
        "        self.ln1 = nn.LayerNorm(n_embd)\n",
        "        self.ln2 = nn.LayerNorm(n_embd)\n",
        "\n",
        "    def forward(self, x):\n",
        "        x = x + self.sa(self.ln1(x))\n",
        "        x = x + self.ffwd(self.ln2(x))\n",
        "        return x\n",
        "\n",
        "# super simple bigram model\n",
        "class BigramLanguageModel(nn.Module):\n",
        "\n",
        "    def __init__(self):\n",
        "        super().__init__()\n",
        "        # each token directly reads off the logits for the next token from a lookup table\n",
        "        self.token_embedding_table = nn.Embedding(vocab_size, n_embd)\n",
        "        self.position_embedding_table = nn.Embedding(block_size, n_embd)\n",
        "        self.blocks = nn.Sequential(*[Block(n_embd, n_head=n_head) for _ in range(n_layer)])\n",
        "        self.ln_f = nn.LayerNorm(n_embd) # final layer norm\n",
        "        self.lm_head = nn.Linear(n_embd, vocab_size)\n",
        "\n",
        "    def forward(self, idx, targets=None):\n",
        "        B, T = idx.shape\n",
        "\n",
        "        # idx and targets are both (B,T) tensor of integers\n",
        "        tok_emb = self.token_embedding_table(idx) # (B,T,C)\n",
        "        pos_emb = self.position_embedding_table(torch.arange(T, device=device)) # (T,C)\n",
        "        x = tok_emb + pos_emb # (B,T,C)\n",
        "        x = self.blocks(x) # (B,T,C)\n",
        "        x = self.ln_f(x) # (B,T,C)\n",
        "        logits = self.lm_head(x) # (B,T,vocab_size)\n",
        "\n",
        "        if targets is None:\n",
        "            loss = None\n",
        "        else:\n",
        "            B, T, C = logits.shape\n",
        "            logits = logits.view(B*T, C)\n",
        "            targets = targets.view(B*T)\n",
        "            loss = F.cross_entropy(logits, targets)\n",
        "\n",
        "        return logits, loss\n",
        "\n",
        "    def generate(self, idx, max_new_tokens):\n",
        "        # idx is (B, T) array of indices in the current context\n",
        "        for _ in range(max_new_tokens):\n",
        "            # crop idx to the last block_size tokens\n",
        "            idx_cond = idx[:, -block_size:]\n",
        "            # get the predictions\n",
        "            logits, loss = self(idx_cond)\n",
        "            # focus only on the last time step\n",
        "            logits = logits[:, -1, :] # becomes (B, C)\n",
        "            # apply softmax to get probabilities\n",
        "            probs = F.softmax(logits, dim=-1) # (B, C)\n",
        "            # sample from the distribution\n",
        "            idx_next = torch.multinomial(probs, num_samples=1) # (B, 1)\n",
        "            # append sampled index to the running sequence\n",
        "            idx = torch.cat((idx, idx_next), dim=1) # (B, T+1)\n",
        "        return idx\n",
        "\n",
        "model = BigramLanguageModel()\n",
        "m = model.to(device)\n",
        "# print the number of parameters in the model\n",
        "print(sum(p.numel() for p in m.parameters())/1e6, 'M parameters')\n",
        "\n",
        "# create a PyTorch optimizer\n",
        "optimizer = torch.optim.AdamW(model.parameters(), lr=learning_rate)\n",
        "steps = []\n",
        "train_losses = []\n",
        "val_losses = []\n",
        "\n",
        "for iter in range(max_iters):\n",
        "\n",
        "    # every once in a while evaluate the loss on train and val sets\n",
        "    if iter % eval_interval == 0 or iter == max_iters - 1:\n",
        "        losses = estimate_loss()\n",
        "        print(f\"step {iter}: train loss {losses['train']:.4f}, val loss {losses['val']:.4f}\")\n",
        "\n",
        "        # Store step and loss values for visualization\n",
        "        steps.append(iter)\n",
        "        train_losses.append(losses['train'])\n",
        "        val_losses.append(losses['val'])\n",
        "\n",
        "    # sample a batch of data\n",
        "    xb, yb = get_batch('train')\n",
        "\n",
        "    # evaluate the loss\n",
        "    logits, loss = model(xb, yb)\n",
        "    optimizer.zero_grad(set_to_none=True)\n",
        "    loss.backward()\n",
        "    optimizer.step()"
      ]
    },
    {
      "cell_type": "code",
      "execution_count": 12,
      "metadata": {
        "id": "ZKTNiPMOiWKr",
        "colab": {
          "base_uri": "https://localhost:8080/"
        },
        "outputId": "def226c9-24a9-4d6f-b7ca-a0189a6aa65f"
      },
      "outputs": [
        {
          "output_type": "stream",
          "name": "stdout",
          "text": [
            "tensor([[241,  72,  87, 195,  72, 183,  72,  79,  79, 197,  82,  88, 184, 188,\n",
            "          87,  82,  85,  92, 185,  73]], device='cuda:0')\n",
            "generated output:\n",
            "'Let me tell you a story of'  Let me tell you a story ofg 真 3 え 。  , λ��c ∞ 𝕨�k4 🤞 � t Dಠ\n"
          ]
        }
      ],
      "source": [
        "# generate from the model\n",
        "context = 'Let me tell you a story of'\n",
        "input_tokens = torch.tensor(encoder_decoder.encode(context), dtype=torch.long, device=device)\n",
        "input_tokens = input_tokens.unsqueeze(0)\n",
        "print(input_tokens)\n",
        "generated_output = m.generate(idx=input_tokens, max_new_tokens=20)[0]\n",
        "\n",
        "print(f\"generated output:\")\n",
        "print(f\"'{context}' {encoder_decoder.decode(generated_output)}\")"
      ]
    },
    {
      "cell_type": "code",
      "execution_count": 13,
      "metadata": {
        "id": "KRSkGZd8pbgv",
        "colab": {
          "base_uri": "https://localhost:8080/"
        },
        "outputId": "9f6f2fcf-0bab-441b-adaf-63cdfadaeca6"
      },
      "outputs": [
        {
          "output_type": "stream",
          "name": "stdout",
          "text": [
            "time taken to train the model 0.6642600231211111 hrs\n"
          ]
        }
      ],
      "source": [
        "model_train = timeit.default_timer()\n",
        "\n",
        "print(f\"time taken to train the model {(model_train - start_time_2) / 3600 } hrs\")"
      ]
    },
    {
      "cell_type": "code",
      "execution_count": 14,
      "metadata": {
        "id": "Fvbzqc4Mvnrw",
        "colab": {
          "base_uri": "https://localhost:8080/",
          "height": 564
        },
        "outputId": "ecbf2ce3-c227-46f7-a587-2d402f24b9d3"
      },
      "outputs": [
        {
          "output_type": "display_data",
          "data": {
            "text/plain": [
              "<Figure size 1000x600 with 1 Axes>"
            ],
            "image/png": "[encoded data removed]"
          },
          "metadata": {}
        }
      ],
      "source": [
        "import matplotlib.pyplot as plt\n",
        "\n",
        "plt.figure(figsize=(10, 6))\n",
        "plt.plot(steps, train_losses, label='Train Loss')\n",
        "plt.plot(steps, val_losses, label='Validation Loss')\n",
        "plt.title('Loss Over Steps')\n",
        "plt.xlabel('Steps')\n",
        "plt.ylabel('Loss')\n",
        "plt.legend()\n",
        "plt.show()"
      ]
    },
    {
      "cell_type": "code",
      "execution_count": 15,
      "metadata": {
        "id": "DetNldUaw_Ze",
        "colab": {
          "base_uri": "https://localhost:8080/"
        },
        "outputId": "4bbcea58-41b3-42c0-a811-ce27800cdf7c"
      },
      "outputs": [
        {
          "output_type": "stream",
          "name": "stdout",
          "text": [
            "///// summary /////\n",
            "total vocab size was 529\n",
            "total no of calculated parameters: 1200384\n",
            "total no of actual parameters: 6.649361\n",
            "time taken to train the model was 0.6642600231211111 hrs\n",
            "model ran for 1000 iterations and final val loss: 4.72514009475708 and train loss: 4.719529151916504\n",
            "\n",
            " \n",
            "\n",
            "//// generated output ////\n",
            " Let me tell you a story ofg 真 3 え 。  , λ��c ∞ 𝕨�k4 🤞 � t Dಠ\n"
          ]
        }
      ],
      "source": [
        "# summary\n",
        "end_time = timeit.default_timer()\n",
        "\n",
        "total_time = (end_time - start_time_2) / 3600\n",
        "\n",
        "ffn_factor = 4\n",
        "embedding_params = n_embd * vocab_size\n",
        "attention_params = n_head * (n_embd // n_head * 2 * n_embd) * n_layer\n",
        "\n",
        "feedforward_params = n_embd * ffn_factor * n_layer * 2\n",
        "total_param = sum(p.numel() for p in m.parameters()) / 1e6\n",
        "total_params = embedding_params + attention_params + feedforward_params\n",
        "\n",
        "print(\"///// summary /////\")\n",
        "# print(f\"time just to fetch the data was {(data_coll - start_time) / 3600} hrs and no of videos fetched were {videoNo}\")\n",
        "# print(f\"total no of words in the file were: {total_no_of_words/1e6} million\")\n",
        "print(f\"total vocab size was {vocab_size}\")\n",
        "print(\"total no of calculated parameters:\", total_params)\n",
        "print(\"total no of actual parameters:\", total_param)\n",
        "print(f\"time taken to train the model was {(model_train - start_time_2) / 3600} hrs\")\n",
        "print(f\"model ran for {max_iters} iterations and final val loss: {val_losses[-1]} and train loss: {train_losses[-1]}\")\n",
        "print('\\n', '\\n')\n",
        "print(\"//// generated output ////\")\n",
        "print(encoder_decoder.decode(generated_output))"
      ]
    },
    {
      "cell_type": "code",
      "source": [],
      "metadata": {
        "id": "9gCAtEipdt6P"
      },
      "execution_count": null,
      "outputs": []
    }
  ],
  "metadata": {
    "accelerator": "GPU",
    "colab": {
      "provenance": [],
      "gpuType": "T4",
      "mount_file_id": "1GirIh-L3I0luR95oxwMP6x5nbwmPS7yk",
      "authorship_tag": "ABX9TyNXnzPTojG1g0sbL8raZNJz",
      "include_colab_link": true
    },
    "kernelspec": {
      "display_name": "Python 3",
      "name": "python3"
    },
    "language_info": {
      "name": "python"
    }
  },
  "nbformat": 4,
  "nbformat_minor": 0
}